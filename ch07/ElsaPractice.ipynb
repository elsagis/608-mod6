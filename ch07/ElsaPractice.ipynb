{
 "cells": [
  {
   "cell_type": "code",
   "execution_count": 2,
   "id": "9b886b81-072d-4182-b518-ef211bc4d621",
   "metadata": {},
   "outputs": [
    {
     "data": {
      "text/plain": [
       "array([[1, 2, 3],\n",
       "       [4, 5, 6]])"
      ]
     },
     "execution_count": 2,
     "metadata": {},
     "output_type": "execute_result"
    }
   ],
   "source": [
    "# Section 7.2 snippets\n",
    "import numpy as np\n",
    "\n",
    "numbers = np.array([2, 3, 5, 7, 11])\n",
    "\n",
    "type(numbers)\n",
    "\n",
    "numbers\n",
    "\n",
    "# Multidimensional Arguments\n",
    "np.array([[1, 2, 3], [4, 5, 6]])"
   ]
  },
  {
   "cell_type": "code",
   "execution_count": 3,
   "id": "863d9267-5a56-460d-8212-a904e5d04603",
   "metadata": {},
   "outputs": [
    {
     "data": {
      "text/plain": [
       "array([[ 2,  4,  6,  8, 10],\n",
       "       [ 1,  3,  5,  7,  9]])"
      ]
     },
     "execution_count": 3,
     "metadata": {},
     "output_type": "execute_result"
    }
   ],
   "source": [
    "# Section 7.2 Self Check snippets\n",
    "\n",
    "# Exercise 2\n",
    "import numpy as np\n",
    "\n",
    "np.array([x for x in range(2, 21, 2)])\n",
    "\n",
    "# Exercise 3\n",
    "np.array([[2, 4, 6, 8, 10], [1, 3, 5, 7, 9]])"
   ]
  },
  {
   "cell_type": "code",
   "execution_count": 6,
   "id": "d9b28d39-4eaa-4ed5-8b5e-a2afb16b101c",
   "metadata": {},
   "outputs": [
    {
     "data": {
      "text/plain": [
       "array([0. , 0.1, 0.2, 0.3, 0.4])"
      ]
     },
     "execution_count": 6,
     "metadata": {},
     "output_type": "execute_result"
    }
   ],
   "source": [
    "# Section 7.3 snippets\n",
    "import numpy as np\n",
    "\n",
    "integers = np.array([[1, 2, 3], [4, 5, 6]])\n",
    "\n",
    "integers\n",
    "\n",
    "floats = np.array([0.0, 0.1, 0.2, 0.3, 0.4])\n",
    "\n",
    "floats"
   ]
  },
  {
   "cell_type": "code",
   "execution_count": 7,
   "id": "5213d164-8f46-490b-aab1-ef744da4a5fa",
   "metadata": {},
   "outputs": [
    {
     "data": {
      "text/plain": [
       "dtype('float64')"
      ]
     },
     "execution_count": 7,
     "metadata": {},
     "output_type": "execute_result"
    }
   ],
   "source": [
    "# Determining an array’s Element Type\n",
    "integers.dtype\n",
    "\n",
    "floats.dtype\n"
   ]
  },
  {
   "cell_type": "code",
   "execution_count": 8,
   "id": "608cdb54-7cfd-437b-bfba-c14263060e91",
   "metadata": {},
   "outputs": [
    {
     "data": {
      "text/plain": [
       "(5,)"
      ]
     },
     "execution_count": 8,
     "metadata": {},
     "output_type": "execute_result"
    }
   ],
   "source": [
    "# Determining an array’s Dimensions\n",
    "integers.ndim\n",
    "\n",
    "floats.ndim\n",
    "\n",
    "integers.shape\n",
    "\n",
    "floats.shape\n"
   ]
  },
  {
   "cell_type": "code",
   "execution_count": 9,
   "id": "d9ad910f-1761-42db-9990-b38364cb7ab2",
   "metadata": {},
   "outputs": [
    {
     "data": {
      "text/plain": [
       "8"
      ]
     },
     "execution_count": 9,
     "metadata": {},
     "output_type": "execute_result"
    }
   ],
   "source": [
    "# Determining an array’s Number of Elements and Element Size\n",
    "integers.size\n",
    "\n",
    "integers.itemsize\n",
    "\n",
    "floats.size\n",
    "\n",
    "floats.itemsize\n"
   ]
  },
  {
   "cell_type": "code",
   "execution_count": 10,
   "id": "39e4405e-1888-43c1-a863-78dce7e38f00",
   "metadata": {},
   "outputs": [
    {
     "name": "stdout",
     "output_type": "stream",
     "text": [
      "1  2  3  \n",
      "4  5  6  \n",
      "1  2  3  4  5  6  "
     ]
    }
   ],
   "source": [
    "# Iterating through a Multidimensional array’s Elements\n",
    "for row in integers:\n",
    "    for column in row:\n",
    "        print(column, end='  ')\n",
    "    print()\n",
    "\n",
    "for i in integers.flat:\n",
    "    print(i, end='  ')"
   ]
  },
  {
   "cell_type": "code",
   "execution_count": 11,
   "id": "0c8a0365-83c6-4f81-b59e-15f463ea06cf",
   "metadata": {},
   "outputs": [
    {
     "data": {
      "text/plain": [
       "(2, 5)"
      ]
     },
     "execution_count": 11,
     "metadata": {},
     "output_type": "execute_result"
    }
   ],
   "source": [
    "# Section 7.3 Self Check snippets\n",
    "\n",
    "# Exercise 1\n",
    "import numpy as np\n",
    "\n",
    "a = np.array([[2, 4, 6, 8, 10], [1, 3, 5, 7, 9]])\n",
    "\n",
    "a.ndim\n",
    "\n",
    "a.shape"
   ]
  },
  {
   "cell_type": "code",
   "execution_count": null,
   "id": "6afe0f7e-42ba-497c-8b67-a6233cfdf6dc",
   "metadata": {},
   "outputs": [],
   "source": [
    "Elsa Ghiormazion"
   ]
  }
 ],
 "metadata": {
  "kernelspec": {
   "display_name": "Python 3 (ipykernel)",
   "language": "python",
   "name": "python3"
  },
  "language_info": {
   "codemirror_mode": {
    "name": "ipython",
    "version": 3
   },
   "file_extension": ".py",
   "mimetype": "text/x-python",
   "name": "python",
   "nbconvert_exporter": "python",
   "pygments_lexer": "ipython3",
   "version": "3.9.7"
  }
 },
 "nbformat": 4,
 "nbformat_minor": 5
}
